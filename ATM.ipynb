balance =15000.50
defult_Password=1234
greetingMesg= print("HELLO: \n \tPLEASE INSERT YUOR CARD")
#enter PIN code
password =int(input ("\nPLEASE INSERT YUOR PIN CODE:\t  "))
#function
def depost():
    global balance
    amount=int(input("Enter amount you need to deposit"))
    balance +=amount
    print("Your balance currently is:" ,balance)
    return

def withdraw():
    global balance
    amount=int(input("Enter amount you need cash amount  :"))
    if amount > balance:
        print("Your current balance is:\t",balance,"\n\tprocessing not possible: \n\tYou do not have enough balance to process")
    
    else:
        balance -=amount
        print("PLEASE take the CASH: ",amount, "\n \tYour current balance is:" ,balance)
    return

def balanceInquiry():
    global balance
    print("Your current balance is:" ,balance)
    
#check if PIN coreect 
i=1
while i<=4:
    
    if password ==defult_Password and i<=3 :
      print("PLEASE SELECT THE SERVICE YOU NEED:\t ")
      print("\nWellcom \n \tWASAYF ALSHAMMARI,, \n \tPLEASE ENTER THE NUMBER OF SERVICE YOU NEED\n\t1:\tbalanceInquiry\n\t2:\tdepost\n\t3:\twithdraw \n\t4:\texit")
      select=int(input("\nEnter Your choice: "))
      if select in range(1,5):
        if select==1:
            balanceInquiry()
        elif select==2:
            depost()
        elif select==3:
            withdraw()
        else:
            print("Thank you please take your card")
        break
    elif password !=defult_Password and i<3: 
        password =int(input ("Incorrect PIN code . Try agin:\t "))
        i+=1   
    elif i==3:
       print("Incorrect PIN \n\t Take your card ")
       break
